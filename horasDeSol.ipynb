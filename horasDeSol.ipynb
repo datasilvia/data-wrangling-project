{
 "cells": [
  {
   "cell_type": "code",
   "execution_count": 1,
   "metadata": {},
   "outputs": [
    {
     "name": "stdout",
     "output_type": "stream",
     "text": [
      "Datos guardados en 'datos_solares.csv'\n"
     ]
    }
   ],
   "source": [
    "import requests\n",
    "from bs4 import BeautifulSoup\n",
    "import csv\n",
    "\n",
    "# URL de la página que contiene los datos\n",
    "url = \"https://greenlifesolutions.es/blog/horas-de-sol-anuales-por-comunidad-autonoma/#\"\n",
    "\n",
    "# Realizar la petición HTTP a la página\n",
    "response = requests.get(url)\n",
    "soup = BeautifulSoup(response.content, 'html.parser')\n",
    "\n",
    "# Buscar todas las tablas que puedan contener datos de horas de sol\n",
    "tablas = soup.find_all('table')\n",
    "\n",
    "# Extraer los datos de cada tabla\n",
    "datos = []\n",
    "for tabla in tablas:\n",
    "    for fila in tabla.find_all('tr'):\n",
    "        columnas = fila.find_all(['td', 'th'])\n",
    "        if len(columnas) == 3:  # Asegúrate de que tiene las columnas necesarias\n",
    "            comunidad = columnas[0].get_text(strip=True)\n",
    "            horas_sol = columnas[1].get_text(strip=True)\n",
    "            irradiacion = columnas[2].get_text(strip=True)\n",
    "            datos.append((comunidad, horas_sol, irradiacion))\n",
    "\n",
    "# Guardar los datos en un archivo CSV\n",
    "with open('datos_solares.csv', 'w', newline='', encoding='utf-8') as f:\n",
    "    writer = csv.writer(f)\n",
    "    writer.writerow(['Comunidad', 'Horas de Sol al Año', 'Irradiación Solar al Año'])\n",
    "    writer.writerows(datos)\n",
    "\n",
    "print(\"Datos guardados en 'datos_solares.csv'\")\n"
   ]
  }
 ],
 "metadata": {
  "kernelspec": {
   "display_name": "Python 3",
   "language": "python",
   "name": "python3"
  },
  "language_info": {
   "codemirror_mode": {
    "name": "ipython",
    "version": 3
   },
   "file_extension": ".py",
   "mimetype": "text/x-python",
   "name": "python",
   "nbconvert_exporter": "python",
   "pygments_lexer": "ipython3",
   "version": "3.9.1"
  }
 },
 "nbformat": 4,
 "nbformat_minor": 2
}

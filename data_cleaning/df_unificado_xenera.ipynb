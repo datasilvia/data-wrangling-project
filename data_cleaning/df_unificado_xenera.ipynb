{
 "cells": [
  {
   "cell_type": "code",
   "execution_count": 2,
   "metadata": {},
   "outputs": [
    {
     "name": "stdout",
     "output_type": "stream",
     "text": [
      "   Energía Valle  Energía Llano  Energía Punta                  Potencia  \\\n",
      "0       0.083165       0.112608       0.161067  0,070357 €/kW en P1 y P3   \n",
      "1       0.120417       0.124649       0.168687  0,070357 €/kW en P1 y P3   \n",
      "2       0.125052            NaN            NaN  0,070357 €/kW en P1 y P3   \n",
      "3       0.117662            NaN            NaN  0,070357 €/kW en P1 y P3   \n",
      "\n",
      "  Coste de gestión  \n",
      "0        3 € / mes  \n",
      "1        3 € / mes  \n",
      "2        3 € / mes  \n",
      "3        3 € / mes  \n"
     ]
    }
   ],
   "source": [
    "import pandas as pd\n",
    "\n",
    "# Cargar los 4 archivos CSV de Xenera\n",
    "df1 = pd.read_csv('resultados_tarifas_xenera_contigo.csv', sep=',')\n",
    "df2 = pd.read_csv('resultados_tarifas_xenera_encasa.csv', sep=',')\n",
    "df3 = pd.read_csv('resultados_tarifas_xenera_fija.csv', sep=',')\n",
    "df4 = pd.read_csv('resultados_tarifas_xenera_unica.csv', sep=',')\n",
    "\n",
    "# Unificar los 4 DataFrames en uno solo\n",
    "df_unificado = pd.concat([df1, df2, df3, df4], ignore_index=True)\n",
    "\n",
    "# Limpiar las columnas para eliminar texto innecesario y convertir a tipo float\n",
    "def limpiar_y_convertir(valor):\n",
    "    if isinstance(valor, str):\n",
    "        # Reemplazar coma por punto y eliminar texto no numérico\n",
    "        valor = valor.replace(',', '.')\n",
    "        valor = ''.join([c for c in valor if c.isdigit() or c == '.'])\n",
    "        return float(valor) if valor else None\n",
    "    return valor\n",
    "\n",
    "# Aplicar la función de limpieza a las columnas\n",
    "df_unificado['Energía Valle'] = df_unificado['Energía Valle'].apply(limpiar_y_convertir)\n",
    "df_unificado['Energía Llano'] = df_unificado['Energía Llano'].apply(limpiar_y_convertir)\n",
    "df_unificado['Energía Punta'] = df_unificado['Energía Punta'].apply(limpiar_y_convertir)\n",
    "\n",
    "# Mostrar el DataFrame unificado\n",
    "print(df_unificado)\n",
    "\n",
    "# Guardar el DataFrame unificado en un nuevo archivo CSV\n",
    "df_unificado.to_csv('resultados_tarifas_xenera_unificado.csv', index=False)\n"
   ]
  }
 ],
 "metadata": {
  "kernelspec": {
   "display_name": "base",
   "language": "python",
   "name": "python3"
  },
  "language_info": {
   "codemirror_mode": {
    "name": "ipython",
    "version": 3
   },
   "file_extension": ".py",
   "mimetype": "text/x-python",
   "name": "python",
   "nbconvert_exporter": "python",
   "pygments_lexer": "ipython3",
   "version": "3.12.4"
  }
 },
 "nbformat": 4,
 "nbformat_minor": 2
}

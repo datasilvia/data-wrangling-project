{
 "cells": [
  {
   "cell_type": "code",
   "execution_count": 5,
   "metadata": {},
   "outputs": [],
   "source": [
    "import pandas as pd"
   ]
  },
  {
   "cell_type": "code",
   "execution_count": 6,
   "metadata": {},
   "outputs": [],
   "source": [
    "# Read the data from the CSV file\n",
    "data = pd.read_csv('resultados_tarifas_naturgy.csv')"
   ]
  },
  {
   "cell_type": "code",
   "execution_count": 7,
   "metadata": {},
   "outputs": [
    {
     "data": {
      "text/html": [
       "<div>\n",
       "<style scoped>\n",
       "    .dataframe tbody tr th:only-of-type {\n",
       "        vertical-align: middle;\n",
       "    }\n",
       "\n",
       "    .dataframe tbody tr th {\n",
       "        vertical-align: top;\n",
       "    }\n",
       "\n",
       "    .dataframe thead th {\n",
       "        text-align: right;\n",
       "    }\n",
       "</style>\n",
       "<table border=\"1\" class=\"dataframe\">\n",
       "  <thead>\n",
       "    <tr style=\"text-align: right;\">\n",
       "      <th></th>\n",
       "      <th>Por uso de Luz</th>\n",
       "      <th>Plana Luz</th>\n",
       "      <th>Noche Luz</th>\n",
       "    </tr>\n",
       "  </thead>\n",
       "  <tbody>\n",
       "    <tr>\n",
       "      <th>0</th>\n",
       "      <td>La energía que consumes  siempre al mismo prec...</td>\n",
       "      <td>Cuota fija durante 12 meses. Cuota personaliza...</td>\n",
       "      <td>Un precio diferente por cada tramo horario de ...</td>\n",
       "    </tr>\n",
       "    <tr>\n",
       "      <th>1</th>\n",
       "      <td>2.0 TD</td>\n",
       "      <td>2.0 TD</td>\n",
       "      <td>2.0 TD</td>\n",
       "    </tr>\n",
       "    <tr>\n",
       "      <th>2</th>\n",
       "      <td>Paga por lo que consumes</td>\n",
       "      <td>La misma cuota fija cada mes</td>\n",
       "      <td>Tarifa con discriminación horaria</td>\n",
       "    </tr>\n",
       "    <tr>\n",
       "      <th>3</th>\n",
       "      <td>0,114900 €/kWh0,146137 €/kWh</td>\n",
       "      <td>Personalizado según tu historial de consumo</td>\n",
       "      <td>Punta: 0,170000€/kWhLlano: 0,116200€/kWhValle:...</td>\n",
       "    </tr>\n",
       "    <tr>\n",
       "      <th>4</th>\n",
       "      <td>Punta: 0,103663 €/kW*díaValle: 0,034042 €/kW*d...</td>\n",
       "      <td>Ya incluido en tu cuota personalizada</td>\n",
       "      <td>Punta: 0,103663€/kWhValle: 0,034042€/kWh\\nPunt...</td>\n",
       "    </tr>\n",
       "    <tr>\n",
       "      <th>5</th>\n",
       "      <td>Sin penalización por permanencia</td>\n",
       "      <td>Sin penalización por permanencia</td>\n",
       "      <td>Sin penalización por permanencia</td>\n",
       "    </tr>\n",
       "    <tr>\n",
       "      <th>6</th>\n",
       "      <td>Precio final, sin contratar servicios adiciona...</td>\n",
       "      <td>Precio final, sin contratar servicios adiciona...</td>\n",
       "      <td>Precio final, sin contratar servicios adiciona...</td>\n",
       "    </tr>\n",
       "  </tbody>\n",
       "</table>\n",
       "</div>"
      ],
      "text/plain": [
       "                                      Por uso de Luz  \\\n",
       "0  La energía que consumes  siempre al mismo prec...   \n",
       "1                                             2.0 TD   \n",
       "2                           Paga por lo que consumes   \n",
       "3                       0,114900 €/kWh0,146137 €/kWh   \n",
       "4  Punta: 0,103663 €/kW*díaValle: 0,034042 €/kW*d...   \n",
       "5                   Sin penalización por permanencia   \n",
       "6  Precio final, sin contratar servicios adiciona...   \n",
       "\n",
       "                                           Plana Luz  \\\n",
       "0  Cuota fija durante 12 meses. Cuota personaliza...   \n",
       "1                                             2.0 TD   \n",
       "2                       La misma cuota fija cada mes   \n",
       "3        Personalizado según tu historial de consumo   \n",
       "4              Ya incluido en tu cuota personalizada   \n",
       "5                   Sin penalización por permanencia   \n",
       "6  Precio final, sin contratar servicios adiciona...   \n",
       "\n",
       "                                           Noche Luz  \n",
       "0  Un precio diferente por cada tramo horario de ...  \n",
       "1                                             2.0 TD  \n",
       "2                  Tarifa con discriminación horaria  \n",
       "3  Punta: 0,170000€/kWhLlano: 0,116200€/kWhValle:...  \n",
       "4  Punta: 0,103663€/kWhValle: 0,034042€/kWh\\nPunt...  \n",
       "5                   Sin penalización por permanencia  \n",
       "6  Precio final, sin contratar servicios adiciona...  "
      ]
     },
     "execution_count": 7,
     "metadata": {},
     "output_type": "execute_result"
    }
   ],
   "source": [
    "# Print the first few rows of the data\n",
    "data.head(10)"
   ]
  }
 ],
 "metadata": {
  "kernelspec": {
   "display_name": "base",
   "language": "python",
   "name": "python3"
  },
  "language_info": {
   "codemirror_mode": {
    "name": "ipython",
    "version": 3
   },
   "file_extension": ".py",
   "mimetype": "text/x-python",
   "name": "python",
   "nbconvert_exporter": "python",
   "pygments_lexer": "ipython3",
   "version": "3.11.7"
  }
 },
 "nbformat": 4,
 "nbformat_minor": 2
}

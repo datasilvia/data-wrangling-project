{
 "cells": [
  {
   "cell_type": "code",
   "execution_count": 127,
   "metadata": {},
   "outputs": [],
   "source": [
    "import pandas as pd"
   ]
  },
  {
   "cell_type": "code",
   "execution_count": 128,
   "metadata": {},
   "outputs": [],
   "source": [
    "# Read the data from the CSV file\n",
    "data = pd.read_csv('resultados_tarifas_octopus.csv')"
   ]
  },
  {
   "cell_type": "code",
   "execution_count": 129,
   "metadata": {},
   "outputs": [
    {
     "data": {
      "text/html": [
       "<div>\n",
       "<style scoped>\n",
       "    .dataframe tbody tr th:only-of-type {\n",
       "        vertical-align: middle;\n",
       "    }\n",
       "\n",
       "    .dataframe tbody tr th {\n",
       "        vertical-align: top;\n",
       "    }\n",
       "\n",
       "    .dataframe thead th {\n",
       "        text-align: right;\n",
       "    }\n",
       "</style>\n",
       "<table border=\"1\" class=\"dataframe\">\n",
       "  <thead>\n",
       "    <tr style=\"text-align: right;\">\n",
       "      <th></th>\n",
       "      <th>Título</th>\n",
       "      <th>Descripción</th>\n",
       "      <th>Energía Punta</th>\n",
       "      <th>Energía Llano</th>\n",
       "      <th>Energía Valle</th>\n",
       "      <th>Potencia Punta</th>\n",
       "      <th>Potencia Valle</th>\n",
       "      <th>Compensación Excedentes</th>\n",
       "    </tr>\n",
       "  </thead>\n",
       "  <tbody>\n",
       "    <tr>\n",
       "      <th>0</th>\n",
       "      <td>Octopus Relax</td>\n",
       "      <td>Mismo precio las 24 horas</td>\n",
       "      <td>0,115 €/kWh</td>\n",
       "      <td>No encontrado</td>\n",
       "      <td>No encontrado</td>\n",
       "      <td>0,089 €/kW/día</td>\n",
       "      <td>0,026 €/kW/día</td>\n",
       "      <td>NaN</td>\n",
       "    </tr>\n",
       "    <tr>\n",
       "      <th>1</th>\n",
       "      <td>Octopus 3</td>\n",
       "      <td>Precio fijo para cada periodo</td>\n",
       "      <td>0,174 €/kWh</td>\n",
       "      <td>0,107 €/kWh</td>\n",
       "      <td>0,083 €/kWh</td>\n",
       "      <td>0,089 €/kW/día</td>\n",
       "      <td>0,026 €/kW/día</td>\n",
       "      <td>NaN</td>\n",
       "    </tr>\n",
       "    <tr>\n",
       "      <th>2</th>\n",
       "      <td>Octopus Flexi</td>\n",
       "      <td>Tarifa a precio de mercado</td>\n",
       "      <td>0,181 €/kWh</td>\n",
       "      <td>0,118 €/kWh</td>\n",
       "      <td>0,085 €/kWh</td>\n",
       "      <td>0,083 €/kW/día</td>\n",
       "      <td>0,018 €/kW/día</td>\n",
       "      <td>NaN</td>\n",
       "    </tr>\n",
       "    <tr>\n",
       "      <th>3</th>\n",
       "      <td>Octopus Solar</td>\n",
       "      <td>Precio fijo para cada periodo</td>\n",
       "      <td>0,171 €/kWh</td>\n",
       "      <td>0,123 €/kWh</td>\n",
       "      <td>0,075 €/kWh</td>\n",
       "      <td>0,089 €/kW/día</td>\n",
       "      <td>0,026 €/kW/día</td>\n",
       "      <td>+0,05 €/kWh</td>\n",
       "    </tr>\n",
       "  </tbody>\n",
       "</table>\n",
       "</div>"
      ],
      "text/plain": [
       "          Título                    Descripción Energía Punta  Energía Llano  \\\n",
       "0  Octopus Relax      Mismo precio las 24 horas   0,115 €/kWh  No encontrado   \n",
       "1      Octopus 3  Precio fijo para cada periodo   0,174 €/kWh    0,107 €/kWh   \n",
       "2  Octopus Flexi     Tarifa a precio de mercado   0,181 €/kWh    0,118 €/kWh   \n",
       "3  Octopus Solar  Precio fijo para cada periodo   0,171 €/kWh    0,123 €/kWh   \n",
       "\n",
       "   Energía Valle  Potencia Punta  Potencia Valle Compensación Excedentes  \n",
       "0  No encontrado  0,089 €/kW/día  0,026 €/kW/día                     NaN  \n",
       "1    0,083 €/kWh  0,089 €/kW/día  0,026 €/kW/día                     NaN  \n",
       "2    0,085 €/kWh  0,083 €/kW/día  0,018 €/kW/día                     NaN  \n",
       "3    0,075 €/kWh  0,089 €/kW/día  0,026 €/kW/día             +0,05 €/kWh  "
      ]
     },
     "execution_count": 129,
     "metadata": {},
     "output_type": "execute_result"
    }
   ],
   "source": [
    "# Print the first few rows of the data\n",
    "data.head(10)"
   ]
  },
  {
   "cell_type": "code",
   "execution_count": 130,
   "metadata": {},
   "outputs": [
    {
     "data": {
      "text/html": [
       "<div>\n",
       "<style scoped>\n",
       "    .dataframe tbody tr th:only-of-type {\n",
       "        vertical-align: middle;\n",
       "    }\n",
       "\n",
       "    .dataframe tbody tr th {\n",
       "        vertical-align: top;\n",
       "    }\n",
       "\n",
       "    .dataframe thead th {\n",
       "        text-align: right;\n",
       "    }\n",
       "</style>\n",
       "<table border=\"1\" class=\"dataframe\">\n",
       "  <thead>\n",
       "    <tr style=\"text-align: right;\">\n",
       "      <th></th>\n",
       "      <th>Término Potencia Punta</th>\n",
       "      <th>Término Potencia Valle</th>\n",
       "      <th>Término Energía Punta</th>\n",
       "      <th>Término Energía Llano</th>\n",
       "      <th>Término Energía Valle</th>\n",
       "      <th>Compensación Excedentes Sin Impuestos</th>\n",
       "      <th>Compensación Excedentes Con Impuestos</th>\n",
       "    </tr>\n",
       "  </thead>\n",
       "  <tbody>\n",
       "    <tr>\n",
       "      <th>0</th>\n",
       "      <td>0,103663€/kW*día</td>\n",
       "      <td>0,034042€/kW*día</td>\n",
       "      <td>0,170000€/kWh</td>\n",
       "      <td>0,116200€/kWh</td>\n",
       "      <td>0,082100€/kWh</td>\n",
       "      <td>0,110000 €/kWh</td>\n",
       "      <td>0,133100 €/kWh</td>\n",
       "    </tr>\n",
       "  </tbody>\n",
       "</table>\n",
       "</div>"
      ],
      "text/plain": [
       "  Término Potencia Punta Término Potencia Valle Término Energía Punta  \\\n",
       "0       0,103663€/kW*día       0,034042€/kW*día         0,170000€/kWh   \n",
       "\n",
       "  Término Energía Llano Término Energía Valle  \\\n",
       "0         0,116200€/kWh         0,082100€/kWh   \n",
       "\n",
       "  Compensación Excedentes Sin Impuestos Compensación Excedentes Con Impuestos  \n",
       "0                        0,110000 €/kWh                        0,133100 €/kWh  "
      ]
     },
     "execution_count": 130,
     "metadata": {},
     "output_type": "execute_result"
    }
   ],
   "source": [
    "# Read the data from the CSV file\n",
    "data_2 = pd.read_csv('resultados_tarifa_solar_naturgy.csv')\n",
    "\n",
    "data_2.head(10)"
   ]
  }
 ],
 "metadata": {
  "kernelspec": {
   "display_name": "base",
   "language": "python",
   "name": "python3"
  },
  "language_info": {
   "codemirror_mode": {
    "name": "ipython",
    "version": 3
   },
   "file_extension": ".py",
   "mimetype": "text/x-python",
   "name": "python",
   "nbconvert_exporter": "python",
   "pygments_lexer": "ipython3",
   "version": "3.11.7"
  }
 },
 "nbformat": 4,
 "nbformat_minor": 2
}

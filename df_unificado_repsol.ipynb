{
 "cells": [
  {
   "cell_type": "code",
   "execution_count": 3,
   "metadata": {},
   "outputs": [
    {
     "name": "stdout",
     "output_type": "stream",
     "text": [
      "                 Título                          Descripción  Precio Energía  \\\n",
      "0  Tarifa Tranquilisima  Precio de la energía y término fijo        0.129900   \n",
      "1    Tarifa Ahorro Plus  Precio de la energía y término fijo        0.119746   \n",
      "2  Tarifa 10h descuento  Precio de la energía y término fijo        0.172830   \n",
      "\n",
      "   Precio Punta  Precio Valle  \n",
      "0      0.068219      0.068219  \n",
      "1      0.068219      0.068219  \n",
      "2      0.068219      0.068219  \n"
     ]
    }
   ],
   "source": [
    "import pandas as pd\n",
    "\n",
    "# Cargar los archivos CSV\n",
    "df1 = pd.read_csv('resultados_tarifas_repsol.csv', sep=',')\n",
    "df2 = pd.read_csv('resultados_tarifas_repsol_2.csv', sep=',')\n",
    "df3 = pd.read_csv('resultados_tarifas_repsol_3.csv', sep=',')\n",
    "\n",
    "# Unificar los DataFrames en uno solo\n",
    "df_unificado = pd.concat([df1, df2, df3], ignore_index=True)\n",
    "\n",
    "# Corregir el formato de las columnas numéricas\n",
    "df_unificado['Precio Energía'] = df_unificado['Precio Energía'].str.replace(',', '.').astype(float)\n",
    "df_unificado['Precio Punta'] = df_unificado['Precio Punta'].str.replace(',', '.').astype(float)\n",
    "df_unificado['Precio Valle'] = df_unificado['Precio Valle'].str.replace(',', '.').astype(float)\n",
    "\n",
    "# Mostrar el DataFrame unificado\n",
    "print(df_unificado)\n",
    "\n",
    "# Guardar el DataFrame unificado en un nuevo archivo CSV\n",
    "df_unificado.to_csv('resultados_tarifas_repsol_unificado.csv', index=False)\n"
   ]
  }
 ],
 "metadata": {
  "kernelspec": {
   "display_name": "base",
   "language": "python",
   "name": "python3"
  },
  "language_info": {
   "codemirror_mode": {
    "name": "ipython",
    "version": 3
   },
   "file_extension": ".py",
   "mimetype": "text/x-python",
   "name": "python",
   "nbconvert_exporter": "python",
   "pygments_lexer": "ipython3",
   "version": "3.12.4"
  }
 },
 "nbformat": 4,
 "nbformat_minor": 2
}
